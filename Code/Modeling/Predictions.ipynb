{
 "cells": [
  {
   "cell_type": "markdown",
   "id": "bbbe176e",
   "metadata": {},
   "source": [
    "# Prédiction Qualité de l'aire et de la Pollution\n",
    "# Outline\n",
    "- [ 1 - Packages et global paraméters](#1)\n",
    "- [ 2 - Qualité de l'air](#2)\n",
    "  - [ 2.1 Etude liée à une commune](#2.1)\n",
    "      - [ 2.1.1 Chargement et visualisation des données](#2.1.1)\n",
    "      - [ 2.1.2 Modèle Sarima](#2.1.2)\n",
    "      - [ 2.1.3 Neural Network](#2.1.3)\n",
    "      - [ 2.1.4 LSTM](#2.1.4)\n",
    "      - [ 2.1.5 Evaluations](#2.1.5)\n",
    "  - [ 2.2 Etude plus générale (département/région/aasqua)](#2.2)\n",
    "      - [ 2.2.1 Chargement et visualisation des données](#2.2.1)\n",
    "      - [ 2.2.2 Modèle Sarima](#2.2.2)\n",
    "      - [ 2.2.3 Neural Network](#2.2.3)\n",
    "      - [ 2.2.4 Random Forest](#2.2.4)\n",
    "      - [ 2.2.5 LSTM](#2.2.5)\n",
    "      - [2.2.6 Evaluation](#2.2.6)\n",
    "- [ 3 - Episode de pollution](#3)\n",
    "  - [ 3.1 Problem Statement](#3.1)\n"
   ]
  },
  {
   "cell_type": "markdown",
   "id": "53b4e5be",
   "metadata": {},
   "source": [
    "<a name=\"1\"></a>\n",
    "## 1 - Packages et global paraméters"
   ]
  },
  {
   "cell_type": "code",
   "execution_count": 177,
   "id": "07355176",
   "metadata": {},
   "outputs": [],
   "source": [
    "from utils import * #S'assurer que le fichier utils.py est dans le même repertoire\n",
    "import numpy as np\n",
    "import pandas as pd\n",
    "from pymongo import MongoClient\n",
    "from sklearn.model_selection import train_test_split\n",
    "import seaborn as snc\n",
    "from sklearn import metrics\n",
    "\n",
    "import warnings\n",
    "warnings.filterwarnings('ignore')\n",
    "%matplotlib inline"
   ]
  },
  {
   "cell_type": "code",
   "execution_count": 178,
   "id": "35e1d3e5",
   "metadata": {},
   "outputs": [],
   "source": [
    "csv_file = \"./data/climat_france.aire_quality.csv\""
   ]
  },
  {
   "cell_type": "markdown",
   "id": "af7f6326",
   "metadata": {},
   "source": [
    "<a name=\"2\"></a>\n",
    "## 2 - Air quality"
   ]
  },
  {
   "cell_type": "code",
   "execution_count": 179,
   "id": "4fce0b8f",
   "metadata": {},
   "outputs": [],
   "source": [
    "id_data = 112"
   ]
  },
  {
   "cell_type": "markdown",
   "id": "73ed4ad8",
   "metadata": {},
   "source": [
    "<a name=\"2.1\"></a>\n",
    "###   2.1 Etude sur une commune"
   ]
  },
  {
   "cell_type": "code",
   "execution_count": 180,
   "id": "bc54661c",
   "metadata": {},
   "outputs": [],
   "source": [
    "# Choix d'un code zone au hasard\n",
    "code_zone = \"2017\""
   ]
  },
  {
   "cell_type": "markdown",
   "id": "2fa655c6",
   "metadata": {},
   "source": [
    "<a name=\"2.1.1\"></a>\n",
    "#### 2.1.1 Chargement et visualisation des données\n",
    "- hypothèse : $x_{t+1} = f(x_t, x_{t-1}, \\ldots)$, avec x : code_qual et t:date_ech\n",
    "- Charger -> prétraiter -> Visualiser(décrire) --> corriger éventuellement variation saisonnières (Moyenne mobile/LR)\n"
   ]
  },
  {
   "cell_type": "code",
   "execution_count": 181,
   "id": "f8402e05",
   "metadata": {},
   "outputs": [],
   "source": [
    "init_data = get_data_by_code_zone(csv_file ,code_zone)"
   ]
  },
  {
   "cell_type": "code",
   "execution_count": 182,
   "id": "309362fe",
   "metadata": {},
   "outputs": [
    {
     "name": "stdout",
     "output_type": "stream",
     "text": [
      "dimension des données initiales (1346, 18)\n"
     ]
    }
   ],
   "source": [
    "print(\"dimension des données initiales\", init_data.shape)"
   ]
  },
  {
   "cell_type": "code",
   "execution_count": 183,
   "id": "1b8d18c1",
   "metadata": {},
   "outputs": [
    {
     "data": {
      "text/html": [
       "<div>\n",
       "<style scoped>\n",
       "    .dataframe tbody tr th:only-of-type {\n",
       "        vertical-align: middle;\n",
       "    }\n",
       "\n",
       "    .dataframe tbody tr th {\n",
       "        vertical-align: top;\n",
       "    }\n",
       "\n",
       "    .dataframe thead th {\n",
       "        text-align: right;\n",
       "    }\n",
       "</style>\n",
       "<table border=\"1\" class=\"dataframe\">\n",
       "  <thead>\n",
       "    <tr style=\"text-align: right;\">\n",
       "      <th></th>\n",
       "      <th>_id</th>\n",
       "      <th>gml_id</th>\n",
       "      <th>aasqa</th>\n",
       "      <th>date_maj</th>\n",
       "      <th>partition_field</th>\n",
       "      <th>code_no2</th>\n",
       "      <th>code_o3</th>\n",
       "      <th>code_pm10</th>\n",
       "      <th>code_pm25</th>\n",
       "      <th>code_qual</th>\n",
       "      <th>code_so2</th>\n",
       "      <th>code_zone</th>\n",
       "      <th>coul_qual</th>\n",
       "      <th>date_dif</th>\n",
       "      <th>date_ech</th>\n",
       "      <th>lib_qual</th>\n",
       "      <th>lib_zone</th>\n",
       "      <th>source</th>\n",
       "    </tr>\n",
       "  </thead>\n",
       "  <tbody>\n",
       "    <tr>\n",
       "      <th>22877</th>\n",
       "      <td>65dfe3d063ab081ada5286d8</td>\n",
       "      <td>976171877</td>\n",
       "      <td>32</td>\n",
       "      <td>2024-02-26 12:28:55.289000+00:00</td>\n",
       "      <td>322024w8</td>\n",
       "      <td>1</td>\n",
       "      <td>2</td>\n",
       "      <td>1</td>\n",
       "      <td>1</td>\n",
       "      <td>2</td>\n",
       "      <td>1</td>\n",
       "      <td>2017</td>\n",
       "      <td>#50CCAA</td>\n",
       "      <td>26/02/2024</td>\n",
       "      <td>25/02/2024</td>\n",
       "      <td>Moyen</td>\n",
       "      <td>ANGUILCOURT LE SART</td>\n",
       "      <td>Atmo HDF</td>\n",
       "    </tr>\n",
       "    <tr>\n",
       "      <th>22881</th>\n",
       "      <td>65dfe3d063ab081ada5286dc</td>\n",
       "      <td>980136519</td>\n",
       "      <td>32</td>\n",
       "      <td>2024-02-27 12:36:04.209000+00:00</td>\n",
       "      <td>322024w9</td>\n",
       "      <td>1</td>\n",
       "      <td>2</td>\n",
       "      <td>1</td>\n",
       "      <td>1</td>\n",
       "      <td>2</td>\n",
       "      <td>1</td>\n",
       "      <td>2017</td>\n",
       "      <td>#50CCAA</td>\n",
       "      <td>27/02/2024</td>\n",
       "      <td>26/02/2024</td>\n",
       "      <td>Moyen</td>\n",
       "      <td>ANGUILCOURT LE SART</td>\n",
       "      <td>Atmo HDF</td>\n",
       "    </tr>\n",
       "    <tr>\n",
       "      <th>22880</th>\n",
       "      <td>65dfe3d063ab081ada5286db</td>\n",
       "      <td>982440417</td>\n",
       "      <td>32</td>\n",
       "      <td>2024-02-28 12:01:05.622000+00:00</td>\n",
       "      <td>322024w9</td>\n",
       "      <td>1</td>\n",
       "      <td>2</td>\n",
       "      <td>1</td>\n",
       "      <td>1</td>\n",
       "      <td>2</td>\n",
       "      <td>1</td>\n",
       "      <td>2017</td>\n",
       "      <td>#50CCAA</td>\n",
       "      <td>28/02/2024</td>\n",
       "      <td>29/02/2024</td>\n",
       "      <td>Moyen</td>\n",
       "      <td>ANGUILCOURT LE SART</td>\n",
       "      <td>Atmo HDF</td>\n",
       "    </tr>\n",
       "    <tr>\n",
       "      <th>22878</th>\n",
       "      <td>65dfe3d063ab081ada5286d9</td>\n",
       "      <td>982440415</td>\n",
       "      <td>32</td>\n",
       "      <td>2024-02-28 12:01:05.622000+00:00</td>\n",
       "      <td>322024w9</td>\n",
       "      <td>1</td>\n",
       "      <td>2</td>\n",
       "      <td>1</td>\n",
       "      <td>2</td>\n",
       "      <td>2</td>\n",
       "      <td>1</td>\n",
       "      <td>2017</td>\n",
       "      <td>#50CCAA</td>\n",
       "      <td>28/02/2024</td>\n",
       "      <td>27/02/2024</td>\n",
       "      <td>Moyen</td>\n",
       "      <td>ANGUILCOURT LE SART</td>\n",
       "      <td>Atmo HDF</td>\n",
       "    </tr>\n",
       "    <tr>\n",
       "      <th>22879</th>\n",
       "      <td>65dfe3d063ab081ada5286da</td>\n",
       "      <td>982440416</td>\n",
       "      <td>32</td>\n",
       "      <td>2024-02-28 12:01:05.622000+00:00</td>\n",
       "      <td>322024w9</td>\n",
       "      <td>1</td>\n",
       "      <td>2</td>\n",
       "      <td>1</td>\n",
       "      <td>2</td>\n",
       "      <td>2</td>\n",
       "      <td>1</td>\n",
       "      <td>2017</td>\n",
       "      <td>#50CCAA</td>\n",
       "      <td>28/02/2024</td>\n",
       "      <td>28/02/2024</td>\n",
       "      <td>Moyen</td>\n",
       "      <td>ANGUILCOURT LE SART</td>\n",
       "      <td>Atmo HDF</td>\n",
       "    </tr>\n",
       "  </tbody>\n",
       "</table>\n",
       "</div>"
      ],
      "text/plain": [
       "                            _id     gml_id  aasqa  \\\n",
       "22877  65dfe3d063ab081ada5286d8  976171877     32   \n",
       "22881  65dfe3d063ab081ada5286dc  980136519     32   \n",
       "22880  65dfe3d063ab081ada5286db  982440417     32   \n",
       "22878  65dfe3d063ab081ada5286d9  982440415     32   \n",
       "22879  65dfe3d063ab081ada5286da  982440416     32   \n",
       "\n",
       "                              date_maj partition_field  code_no2  code_o3  \\\n",
       "22877 2024-02-26 12:28:55.289000+00:00        322024w8         1        2   \n",
       "22881 2024-02-27 12:36:04.209000+00:00        322024w9         1        2   \n",
       "22880 2024-02-28 12:01:05.622000+00:00        322024w9         1        2   \n",
       "22878 2024-02-28 12:01:05.622000+00:00        322024w9         1        2   \n",
       "22879 2024-02-28 12:01:05.622000+00:00        322024w9         1        2   \n",
       "\n",
       "       code_pm10  code_pm25  code_qual  code_so2  code_zone coul_qual  \\\n",
       "22877          1          1          2         1       2017   #50CCAA   \n",
       "22881          1          1          2         1       2017   #50CCAA   \n",
       "22880          1          1          2         1       2017   #50CCAA   \n",
       "22878          1          2          2         1       2017   #50CCAA   \n",
       "22879          1          2          2         1       2017   #50CCAA   \n",
       "\n",
       "         date_dif    date_ech lib_qual             lib_zone    source  \n",
       "22877  26/02/2024  25/02/2024    Moyen  ANGUILCOURT LE SART  Atmo HDF  \n",
       "22881  27/02/2024  26/02/2024    Moyen  ANGUILCOURT LE SART  Atmo HDF  \n",
       "22880  28/02/2024  29/02/2024    Moyen  ANGUILCOURT LE SART  Atmo HDF  \n",
       "22878  28/02/2024  27/02/2024    Moyen  ANGUILCOURT LE SART  Atmo HDF  \n",
       "22879  28/02/2024  28/02/2024    Moyen  ANGUILCOURT LE SART  Atmo HDF  "
      ]
     },
     "execution_count": 183,
     "metadata": {},
     "output_type": "execute_result"
    }
   ],
   "source": [
    "init_data.tail()"
   ]
  },
  {
   "cell_type": "code",
   "execution_count": 184,
   "id": "556fa24b",
   "metadata": {
    "scrolled": true
   },
   "outputs": [
    {
     "name": "stdout",
     "output_type": "stream",
     "text": [
      "la date la plus recénte avant mise à jour : 2024-02-28 12:01:05.622000+00:00\n",
      "Les données ont été mises à jour avec succès.\n",
      "15 récentes observations on été ajouté\n"
     ]
    }
   ],
   "source": [
    "# Mise à jour des données initiales.\n",
    "data = update_zone_info(init_data, id_data, code_zone)"
   ]
  },
  {
   "cell_type": "code",
   "execution_count": 185,
   "id": "25950770",
   "metadata": {},
   "outputs": [
    {
     "data": {
      "text/plain": [
       "(1361, 18)"
      ]
     },
     "execution_count": 185,
     "metadata": {},
     "output_type": "execute_result"
    }
   ],
   "source": [
    "data.shape # taille initiale des données"
   ]
  },
  {
   "cell_type": "code",
   "execution_count": 186,
   "id": "96188437",
   "metadata": {},
   "outputs": [
    {
     "name": "stdout",
     "output_type": "stream",
     "text": [
      "dimension après maj (1361, 18)\n"
     ]
    }
   ],
   "source": [
    "print(\"dimension après maj\", data.shape)"
   ]
  },
  {
   "cell_type": "code",
   "execution_count": 187,
   "id": "1d1c25fd",
   "metadata": {},
   "outputs": [
    {
     "data": {
      "text/html": [
       "<div>\n",
       "<style scoped>\n",
       "    .dataframe tbody tr th:only-of-type {\n",
       "        vertical-align: middle;\n",
       "    }\n",
       "\n",
       "    .dataframe tbody tr th {\n",
       "        vertical-align: top;\n",
       "    }\n",
       "\n",
       "    .dataframe thead th {\n",
       "        text-align: right;\n",
       "    }\n",
       "</style>\n",
       "<table border=\"1\" class=\"dataframe\">\n",
       "  <thead>\n",
       "    <tr style=\"text-align: right;\">\n",
       "      <th></th>\n",
       "      <th>_id</th>\n",
       "      <th>gml_id</th>\n",
       "      <th>aasqa</th>\n",
       "      <th>date_maj</th>\n",
       "      <th>partition_field</th>\n",
       "      <th>code_no2</th>\n",
       "      <th>code_o3</th>\n",
       "      <th>code_pm10</th>\n",
       "      <th>code_pm25</th>\n",
       "      <th>code_qual</th>\n",
       "      <th>code_so2</th>\n",
       "      <th>code_zone</th>\n",
       "      <th>coul_qual</th>\n",
       "      <th>date_dif</th>\n",
       "      <th>date_ech</th>\n",
       "      <th>lib_qual</th>\n",
       "      <th>lib_zone</th>\n",
       "      <th>source</th>\n",
       "    </tr>\n",
       "  </thead>\n",
       "  <tbody>\n",
       "    <tr>\n",
       "      <th>1356</th>\n",
       "      <td>NaN</td>\n",
       "      <td>1026724442</td>\n",
       "      <td>32</td>\n",
       "      <td>2024-03-11 12:22:15.902000+00:00</td>\n",
       "      <td>322024w10</td>\n",
       "      <td>1</td>\n",
       "      <td>2</td>\n",
       "      <td>1</td>\n",
       "      <td>1</td>\n",
       "      <td>2</td>\n",
       "      <td>1</td>\n",
       "      <td>2017</td>\n",
       "      <td>#50CCAA</td>\n",
       "      <td>2024/03/11</td>\n",
       "      <td>2024-03-10</td>\n",
       "      <td>Moyen</td>\n",
       "      <td>ANGUILCOURT LE SART</td>\n",
       "      <td>Atmo HDF</td>\n",
       "    </tr>\n",
       "    <tr>\n",
       "      <th>1357</th>\n",
       "      <td>NaN</td>\n",
       "      <td>1029986817</td>\n",
       "      <td>32</td>\n",
       "      <td>2024-03-12 12:10:11.049000+00:00</td>\n",
       "      <td>322024w11</td>\n",
       "      <td>1</td>\n",
       "      <td>2</td>\n",
       "      <td>2</td>\n",
       "      <td>2</td>\n",
       "      <td>2</td>\n",
       "      <td>1</td>\n",
       "      <td>2017</td>\n",
       "      <td>#50CCAA</td>\n",
       "      <td>2024/03/12</td>\n",
       "      <td>2024-03-11</td>\n",
       "      <td>Moyen</td>\n",
       "      <td>ANGUILCOURT LE SART</td>\n",
       "      <td>Atmo HDF</td>\n",
       "    </tr>\n",
       "    <tr>\n",
       "      <th>1358</th>\n",
       "      <td>NaN</td>\n",
       "      <td>1033183072</td>\n",
       "      <td>32</td>\n",
       "      <td>2024-03-13 12:01:15.801000+00:00</td>\n",
       "      <td>322024w11</td>\n",
       "      <td>1</td>\n",
       "      <td>2</td>\n",
       "      <td>2</td>\n",
       "      <td>2</td>\n",
       "      <td>2</td>\n",
       "      <td>1</td>\n",
       "      <td>2017</td>\n",
       "      <td>#50CCAA</td>\n",
       "      <td>2024/03/13</td>\n",
       "      <td>2024-03-12</td>\n",
       "      <td>Moyen</td>\n",
       "      <td>ANGUILCOURT LE SART</td>\n",
       "      <td>Atmo HDF</td>\n",
       "    </tr>\n",
       "    <tr>\n",
       "      <th>1359</th>\n",
       "      <td>NaN</td>\n",
       "      <td>1038174918</td>\n",
       "      <td>32</td>\n",
       "      <td>2024-03-14 12:37:08.817000+00:00</td>\n",
       "      <td>322024w11</td>\n",
       "      <td>1</td>\n",
       "      <td>2</td>\n",
       "      <td>1</td>\n",
       "      <td>1</td>\n",
       "      <td>2</td>\n",
       "      <td>1</td>\n",
       "      <td>2017</td>\n",
       "      <td>#50CCAA</td>\n",
       "      <td>2024/03/14</td>\n",
       "      <td>2024-03-13</td>\n",
       "      <td>Moyen</td>\n",
       "      <td>ANGUILCOURT LE SART</td>\n",
       "      <td>Atmo HDF</td>\n",
       "    </tr>\n",
       "    <tr>\n",
       "      <th>1360</th>\n",
       "      <td>NaN</td>\n",
       "      <td>1040509062</td>\n",
       "      <td>32</td>\n",
       "      <td>2024-03-15 12:01:21.294000+00:00</td>\n",
       "      <td>322024w11</td>\n",
       "      <td>1</td>\n",
       "      <td>2</td>\n",
       "      <td>1</td>\n",
       "      <td>1</td>\n",
       "      <td>2</td>\n",
       "      <td>1</td>\n",
       "      <td>2017</td>\n",
       "      <td>#50CCAA</td>\n",
       "      <td>2024/03/15</td>\n",
       "      <td>2024-03-14</td>\n",
       "      <td>Moyen</td>\n",
       "      <td>ANGUILCOURT LE SART</td>\n",
       "      <td>Atmo HDF</td>\n",
       "    </tr>\n",
       "  </tbody>\n",
       "</table>\n",
       "</div>"
      ],
      "text/plain": [
       "      _id      gml_id aasqa                         date_maj partition_field  \\\n",
       "1356  NaN  1026724442    32 2024-03-11 12:22:15.902000+00:00       322024w10   \n",
       "1357  NaN  1029986817    32 2024-03-12 12:10:11.049000+00:00       322024w11   \n",
       "1358  NaN  1033183072    32 2024-03-13 12:01:15.801000+00:00       322024w11   \n",
       "1359  NaN  1038174918    32 2024-03-14 12:37:08.817000+00:00       322024w11   \n",
       "1360  NaN  1040509062    32 2024-03-15 12:01:21.294000+00:00       322024w11   \n",
       "\n",
       "      code_no2  code_o3  code_pm10  code_pm25  code_qual  code_so2 code_zone  \\\n",
       "1356         1        2          1          1          2         1      2017   \n",
       "1357         1        2          2          2          2         1      2017   \n",
       "1358         1        2          2          2          2         1      2017   \n",
       "1359         1        2          1          1          2         1      2017   \n",
       "1360         1        2          1          1          2         1      2017   \n",
       "\n",
       "     coul_qual    date_dif    date_ech lib_qual             lib_zone    source  \n",
       "1356   #50CCAA  2024/03/11  2024-03-10    Moyen  ANGUILCOURT LE SART  Atmo HDF  \n",
       "1357   #50CCAA  2024/03/12  2024-03-11    Moyen  ANGUILCOURT LE SART  Atmo HDF  \n",
       "1358   #50CCAA  2024/03/13  2024-03-12    Moyen  ANGUILCOURT LE SART  Atmo HDF  \n",
       "1359   #50CCAA  2024/03/14  2024-03-13    Moyen  ANGUILCOURT LE SART  Atmo HDF  \n",
       "1360   #50CCAA  2024/03/15  2024-03-14    Moyen  ANGUILCOURT LE SART  Atmo HDF  "
      ]
     },
     "execution_count": 187,
     "metadata": {},
     "output_type": "execute_result"
    }
   ],
   "source": [
    "data.tail() # verifier qu'on a les dernières dans le champ date_maj"
   ]
  },
  {
   "cell_type": "code",
   "execution_count": 188,
   "id": "23ac7742",
   "metadata": {},
   "outputs": [
    {
     "data": {
      "text/plain": [
       "gml_id             1128\n",
       "aasqa                 2\n",
       "date_maj            832\n",
       "partition_field     167\n",
       "code_no2              3\n",
       "code_o3               5\n",
       "code_pm10             5\n",
       "code_pm25             5\n",
       "code_qual             4\n",
       "code_so2              2\n",
       "code_zone             2\n",
       "coul_qual             4\n",
       "date_dif            827\n",
       "date_ech           1128\n",
       "lib_qual              4\n",
       "lib_zone              1\n",
       "source                1\n",
       "dtype: int64"
      ]
     },
     "execution_count": 188,
     "metadata": {},
     "output_type": "execute_result"
    }
   ],
   "source": [
    "# Suppression de la colonne id car crée par mongo\n",
    "data = data.drop('_id', axis=1)\n",
    "# Suppression des lignes avec des dates dupliquées\n",
    "unique_date_ech = data.drop_duplicates(subset=['date_ech'])\n",
    "unique_date_ech.nunique()"
   ]
  },
  {
   "cell_type": "code",
   "execution_count": 189,
   "id": "046c7be7",
   "metadata": {},
   "outputs": [
    {
     "data": {
      "text/plain": [
       "1128"
      ]
     },
     "execution_count": 189,
     "metadata": {},
     "output_type": "execute_result"
    }
   ],
   "source": [
    "len(unique_date_ech)"
   ]
  },
  {
   "cell_type": "code",
   "execution_count": 190,
   "id": "8dda99b8",
   "metadata": {
    "scrolled": false
   },
   "outputs": [
    {
     "name": "stdout",
     "output_type": "stream",
     "text": [
      "0\n"
     ]
    }
   ],
   "source": [
    "nb_dup, unique_date_ech = remove_duplicates(unique_date_ech)\n",
    "print(nb_dup)"
   ]
  },
  {
   "cell_type": "code",
   "execution_count": 191,
   "id": "ef309ab5",
   "metadata": {},
   "outputs": [],
   "source": [
    "def resample_by_day(df, window_size=1):\n",
    "    df['date_ech'] = pd.to_datetime(df['date_ech'])  # Convertir en format datetime si ce n'est pas déjà fait\n",
    "    last_date = df['date_ech'].iloc[-1]  # Dernière date du DataFrame\n",
    "    freq = f'{window_size}D'  # Fréquence pour l'échantillonnage, par défaut 1 jour\n",
    "    df_resampled = df.resample(freq, on='date_ech').mean()  # Échantillonner par jour avec la fréquence spécifiée et calculer la moyenne des valeurs\n",
    "    df_resampled = df_resampled[df_resampled.index <= last_date]  # Limiter l'échantillonnage à la dernière date\n",
    "    return df_resampled"
   ]
  },
  {
   "cell_type": "code",
   "execution_count": 208,
   "id": "1c4a58f7",
   "metadata": {},
   "outputs": [],
   "source": [
    "# Échantillonner les dates par fenetre (jour/semaine/mois...), \n",
    "fenetre_echantillonage = 30 # on echantillone par mois, mais peut être changé, initialement on a par jour. \n",
    "df_resampled = resample_by_day(unique_date_ech[[\"date_ech\", \"code_qual\"]], fenetre_echantillonage)"
   ]
  },
  {
   "cell_type": "code",
   "execution_count": 209,
   "id": "9ff07889",
   "metadata": {},
   "outputs": [
    {
     "data": {
      "text/plain": [
       "(39, 1)"
      ]
     },
     "execution_count": 209,
     "metadata": {},
     "output_type": "execute_result"
    }
   ],
   "source": [
    "df_resampled.shape"
   ]
  },
  {
   "cell_type": "code",
   "execution_count": 210,
   "id": "8570c4c3",
   "metadata": {},
   "outputs": [],
   "source": [
    "training_set, test_set = split_train_test_set(df_resampled, 0.2)"
   ]
  },
  {
   "cell_type": "code",
   "execution_count": 211,
   "id": "5e6d9385",
   "metadata": {},
   "outputs": [
    {
     "data": {
      "text/html": [
       "<div>\n",
       "<style scoped>\n",
       "    .dataframe tbody tr th:only-of-type {\n",
       "        vertical-align: middle;\n",
       "    }\n",
       "\n",
       "    .dataframe tbody tr th {\n",
       "        vertical-align: top;\n",
       "    }\n",
       "\n",
       "    .dataframe thead th {\n",
       "        text-align: right;\n",
       "    }\n",
       "</style>\n",
       "<table border=\"1\" class=\"dataframe\">\n",
       "  <thead>\n",
       "    <tr style=\"text-align: right;\">\n",
       "      <th></th>\n",
       "      <th>code_qual</th>\n",
       "    </tr>\n",
       "    <tr>\n",
       "      <th>date_ech</th>\n",
       "      <th></th>\n",
       "    </tr>\n",
       "  </thead>\n",
       "  <tbody>\n",
       "    <tr>\n",
       "      <th>2023-10-19</th>\n",
       "      <td>2.034483</td>\n",
       "    </tr>\n",
       "    <tr>\n",
       "      <th>2023-11-18</th>\n",
       "      <td>1.928571</td>\n",
       "    </tr>\n",
       "    <tr>\n",
       "      <th>2023-12-18</th>\n",
       "      <td>2.000000</td>\n",
       "    </tr>\n",
       "    <tr>\n",
       "      <th>2024-01-17</th>\n",
       "      <td>2.150000</td>\n",
       "    </tr>\n",
       "    <tr>\n",
       "      <th>2024-02-16</th>\n",
       "      <td>2.000000</td>\n",
       "    </tr>\n",
       "  </tbody>\n",
       "</table>\n",
       "</div>"
      ],
      "text/plain": [
       "            code_qual\n",
       "date_ech             \n",
       "2023-10-19   2.034483\n",
       "2023-11-18   1.928571\n",
       "2023-12-18   2.000000\n",
       "2024-01-17   2.150000\n",
       "2024-02-16   2.000000"
      ]
     },
     "execution_count": 211,
     "metadata": {},
     "output_type": "execute_result"
    }
   ],
   "source": [
    "test_set.tail(5)"
   ]
  },
  {
   "cell_type": "code",
   "execution_count": 212,
   "id": "cb4f6191",
   "metadata": {},
   "outputs": [
    {
     "name": "stdout",
     "output_type": "stream",
     "text": [
      "taille training set 31\n",
      "taille test set 8\n"
     ]
    }
   ],
   "source": [
    "print(\"taille training set\", len(training_set))\n",
    "print(\"taille test set\", len(test_set))"
   ]
  },
  {
   "cell_type": "code",
   "execution_count": 213,
   "id": "f7a46133",
   "metadata": {},
   "outputs": [
    {
     "name": "stdout",
     "output_type": "stream",
     "text": [
      "Les dimensions : training_set : (31, 1),test_set : (8, 1)\n"
     ]
    }
   ],
   "source": [
    "print(f\"Les dimensions : training_set : {training_set.shape},\"+\n",
    "      f\"test_set : {test_set.shape}\")"
   ]
  },
  {
   "cell_type": "code",
   "execution_count": 214,
   "id": "dae12e6d",
   "metadata": {},
   "outputs": [],
   "source": [
    "# fonction pour interpoler les valeurs manquantes, on pourrais aussi avoir d'autre méthodes(foward_fill, backward_fill...)\n",
    "def interpolate(y):\n",
    "    y0 = y.copy()\n",
    "    N = len(y0)\n",
    "    pos = 0\n",
    "    while pos < N:\n",
    "        if np.isnan(y0[pos]):\n",
    "            count = 0\n",
    "            while np.isnan(y0[pos + count]):\n",
    "                count += 1\n",
    "            current = y0[pos - 1]\n",
    "            future = y0[pos + count]\n",
    "            slope = (future - current) / count\n",
    "            y0[pos:pos + count] = current + np.arange(1, count + 1) * slope\n",
    "            pos += count\n",
    "        else:\n",
    "            pos += 1\n",
    "    return y0\n",
    "\n",
    "df_interpoled = df_resampled.apply(interpolate)"
   ]
  },
  {
   "cell_type": "code",
   "execution_count": 215,
   "id": "054d93e4",
   "metadata": {
    "scrolled": true
   },
   "outputs": [
    {
     "data": {
      "text/plain": [
       "Text(0.5, 0, 'date_ech')"
      ]
     },
     "execution_count": 215,
     "metadata": {},
     "output_type": "execute_result"
    },
    {
     "data": {
      "image/png": "[encoded data removed]",
      "text/plain": [
       "<Figure size 640x480 with 1 Axes>"
      ]
     },
     "metadata": {},
     "output_type": "display_data"
    }
   ],
   "source": [
    "#df_resampled.set_index(\"date_ech\", inplace=True)\n",
    "df_interpoled.plot(legend=False)\n",
    "ax = plt.gca()\n",
    "ax.set_ylabel('qualité aire')\n",
    "ax.set_xlabel('date_ech')"
   ]
  },
  {
   "cell_type": "code",
   "execution_count": null,
   "id": "232323cc",
   "metadata": {},
   "outputs": [],
   "source": []
  },
  {
   "cell_type": "code",
   "execution_count": null,
   "id": "6e22704a",
   "metadata": {},
   "outputs": [],
   "source": []
  },
  {
   "cell_type": "code",
   "execution_count": null,
   "id": "ccfb9095",
   "metadata": {},
   "outputs": [],
   "source": []
  },
  {
   "cell_type": "markdown",
   "id": "53c8fd55",
   "metadata": {},
   "source": [
    "<a name=\"2.1.2\"></a>\n",
    "#### 2.1.2 Modèle Sarima\n",
    "- Prévision basée sur modèle aléatoire tels que Sarima.\n",
    "- hypothèse : on a une série temporelle qui présente une saisonnalité"
   ]
  },
  {
   "cell_type": "code",
   "execution_count": null,
   "id": "50558982",
   "metadata": {},
   "outputs": [],
   "source": []
  },
  {
   "cell_type": "markdown",
   "id": "2dcc9d4a",
   "metadata": {},
   "source": [
    "*Contribution des prédicteurs*"
   ]
  },
  {
   "cell_type": "markdown",
   "id": "c9ca4a6d",
   "metadata": {},
   "source": [
    "<a name=\"2.1.3\"></a>\n",
    "#### 2.1.3 Neural Network"
   ]
  },
  {
   "cell_type": "code",
   "execution_count": null,
   "id": "e81d61b7",
   "metadata": {},
   "outputs": [],
   "source": []
  },
  {
   "cell_type": "code",
   "execution_count": null,
   "id": "d6e5e456",
   "metadata": {},
   "outputs": [],
   "source": []
  },
  {
   "cell_type": "markdown",
   "id": "6ee9aecd",
   "metadata": {},
   "source": [
    "<a name=\"2.1.4\"></a>\n",
    "#### 2.1.4 LSTM"
   ]
  },
  {
   "cell_type": "code",
   "execution_count": null,
   "id": "c4535085",
   "metadata": {},
   "outputs": [],
   "source": []
  },
  {
   "cell_type": "code",
   "execution_count": null,
   "id": "8d0e100c",
   "metadata": {},
   "outputs": [],
   "source": []
  },
  {
   "cell_type": "markdown",
   "id": "be179100",
   "metadata": {},
   "source": [
    "<a name=\"2.1.5\"></a>\n",
    "### 2.1.5 Evaluations"
   ]
  },
  {
   "cell_type": "markdown",
   "id": "461ec70b",
   "metadata": {},
   "source": [
    "<a name=\"2.2\"></a>\n",
    "## 2.2 Etude plus générale (département/région/aasqua)"
   ]
  },
  {
   "cell_type": "code",
   "execution_count": null,
   "id": "255e14a6",
   "metadata": {},
   "outputs": [],
   "source": [
    "def get_data_by_dep(csv_file, code_dept):\n",
    "    # Charger le fichier CSV en un DataFrame\n",
    "    df = pd.read_csv(csv_file, sep=';')\n",
    "    \n",
    "    # Filtrer les lignes pour les codes de zone commençant par le code du département spécifié\n",
    "    data = df[df['code_zone'].astype(str).str.startswith(str(code_dept))]\n",
    "    data = data.sort_values(by='date_ech')\n",
    "    return data\n",
    "df = get_data_by_dep(csv_file, 2)"
   ]
  },
  {
   "cell_type": "code",
   "execution_count": null,
   "id": "1cb3e74b",
   "metadata": {},
   "outputs": [],
   "source": [
    "df.head()"
   ]
  },
  {
   "cell_type": "code",
   "execution_count": null,
   "id": "bc227b63",
   "metadata": {},
   "outputs": [],
   "source": [
    "nb_dup, global_data = remove_duplicates(df)\n",
    "print(nb_dup)"
   ]
  },
  {
   "cell_type": "markdown",
   "id": "4a0a6914",
   "metadata": {},
   "source": [
    "2.2 "
   ]
  },
  {
   "cell_type": "markdown",
   "id": "97686f0b",
   "metadata": {},
   "source": []
  },
  {
   "cell_type": "markdown",
   "id": "83e4b95c",
   "metadata": {},
   "source": []
  },
  {
   "cell_type": "code",
   "execution_count": null,
   "id": "14a0afe9",
   "metadata": {},
   "outputs": [],
   "source": []
  },
  {
   "cell_type": "markdown",
   "id": "08232d99",
   "metadata": {},
   "source": []
  },
  {
   "cell_type": "code",
   "execution_count": null,
   "id": "e20885eb",
   "metadata": {},
   "outputs": [],
   "source": []
  },
  {
   "cell_type": "code",
   "execution_count": null,
   "id": "755a4090",
   "metadata": {},
   "outputs": [],
   "source": []
  },
  {
   "cell_type": "code",
   "execution_count": null,
   "id": "6b0b0467",
   "metadata": {},
   "outputs": [],
   "source": []
  },
  {
   "cell_type": "code",
   "execution_count": null,
   "id": "bed2027a",
   "metadata": {},
   "outputs": [],
   "source": []
  }
 ],
 "metadata": {
  "kernelspec": {
   "display_name": "Python 3 (ipykernel)",
   "language": "python",
   "name": "python3"
  },
  "language_info": {
   "codemirror_mode": {
    "name": "ipython",
    "version": 3
   },
   "file_extension": ".py",
   "mimetype": "text/x-python",
   "name": "python",
   "nbconvert_exporter": "python",
   "pygments_lexer": "ipython3",
   "version": "3.10.10"
  }
 },
 "nbformat": 4,
 "nbformat_minor": 5
}
