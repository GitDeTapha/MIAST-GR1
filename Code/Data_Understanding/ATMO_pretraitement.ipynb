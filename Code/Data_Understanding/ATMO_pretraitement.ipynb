{
 "cells": [
  {
   "cell_type": "code",
   "execution_count": 1,
   "id": "aa81060b",
   "metadata": {},
   "outputs": [],
   "source": [
    "#Importation des librairies nécessaires au déroulement du projet\n",
    "import requests\n",
    "import json\n",
    "import pandas as pd\n",
    "import numpy as np\n",
    "import matplotlib.pyplot as plt\n",
    "import seaborn as sns\n",
    "from scipy.stats import mstats\n"
   ]
  },
  {
   "cell_type": "markdown",
   "id": "7622874e",
   "metadata": {},
   "source": [
    "### Gestion des valeurs manquantes\n",
    "- Si pour une variable donnée, on a peu de valeurs manquantes, on travail avec le jeu de données comme tel\n",
    "- Si par contre, on a beaucoup de valeurs manquantes dans une varible donnée, soit on l'oubliera si elle n'est pas importante pour notre analyse, soit on créera un sous-échantillon et on supprimera les individus pour lesquelles cette variable est manquante si elle est cruciale pour notre analyse.\n",
    "- On peut également passer par l'imputation qui est le fait de deviner une valeur manquante\n",
    "L'imputation par la moyenne, la médiane et le mode sont des méthodes simples pour remplacer les valeurs manquantes dans une variable.\n",
    "\n",
    "L'imputation par la moyenne consiste à remplacer les valeurs manquantes par la moyenne des valeurs non manquantes dans la variable. Cette méthode est utile pour les variables continues et symétriques.\n",
    "\n",
    "L'imputation par la médiane consiste à remplacer les valeurs manquantes par la médiane des valeurs non manquantes dans la variable. Cette méthode est utile pour les variables continues qui ont une distribution asymétrique ou pour les variables ordinales.\n",
    "\n",
    "L'imputation par le mode consiste à remplacer les valeurs manquantes par le mode, c'est-à-dire la valeur la plus fréquente, dans la variable. Cette méthode est utile pour les variables catégorielles ou nominales.\n",
    "\n",
    "\n",
    "(variable cruciale pour l'indice l'ATMO: code_qual)"
   ]
  },
  {
   "cell_type": "code",
   "execution_count": 11,
   "id": "f53e19e0",
   "metadata": {
    "collapsed": true
   },
   "outputs": [
    {
     "name": "stdout",
     "output_type": "stream",
     "text": [
      "   properties.gml_id properties.partition_field  properties.code_no2  \\\n",
      "0          875183780                   282024w4                    1   \n",
      "1          971927298                   282024w8                    1   \n",
      "2          971929932                   282024w9                    1   \n",
      "3          971932679                   282024w9                    2   \n",
      "\n",
      "   properties.code_o3  properties.code_pm10  properties.code_pm25  \\\n",
      "0                   2                     1                     1   \n",
      "1                   2                     1                     1   \n",
      "2                   2                     1                     1   \n",
      "3                   2                     1                     1   \n",
      "\n",
      "   properties.code_qual  properties.code_so2 properties.code_zone  \\\n",
      "0                     2                    1                14118   \n",
      "1                     2                    1                14118   \n",
      "2                     2                    1                14118   \n",
      "3                     2                    1                14118   \n",
      "\n",
      "  properties.coul_qual properties.date_ech properties.lib_qual  \\\n",
      "0              #50CCAA          2024-01-28               Moyen   \n",
      "1              #50CCAA          2024-02-25               Moyen   \n",
      "2              #50CCAA          2024-02-26               Moyen   \n",
      "3              #50CCAA          2024-02-27               Moyen   \n",
      "\n",
      "  properties.lib_zone  \n",
      "0                Caen  \n",
      "1                Caen  \n",
      "2                Caen  \n",
      "3                Caen  \n"
     ]
    }
   ],
   "source": [
    "def manage_missing_values(data):\n",
    "    #Seuil pour la suppression des lignes\n",
    "    seuil_suppression = len(data.columns) // 2\n",
    "    data2 = data[[\"properties.code_no2\", \"properties.code_o3\", \"properties.code_pm10\", \"properties.code_pm25\", \"properties.code_qual\", \"properties.code_so2\"]]\n",
    "    \n",
    "    # Parcourir chaque colonne pour effectuer l'imputation et la suppression\n",
    "    for col in data2.columns:\n",
    "        # Vérifier si le nombre de valeurs manquantes dans la colonne dépasse le seuil de suppression\n",
    "        if data[col].isnull().sum() > seuil_suppression:\n",
    "            # Suppression des lignes avec des valeurs manquantes dans cette colonne\n",
    "            data = data.dropna(subset=[col])\n",
    "        elif data[col].isnull().sum() < seuil_suppression and data[col].isnull().sum() != 0:\n",
    "            # Imputation par le mode si les valeurs manquantes sont minimes\n",
    "            mode_value = data[col].mode()[0]\n",
    "            data[col].fillna(mode_value, inplace=True)\n",
    "        else:\n",
    "            continue\n",
    "\n",
    "    return data"
   ]
  },
  {
   "cell_type": "markdown",
   "id": "d694c574",
   "metadata": {},
   "source": [
    "### Gestion des valeurs aberrantes\n",
    "On dispose de plusieurs méthodes pour identifier les valeurs aberrantes:\n",
    "- L'IQR: La méthode de l'IQR est une approche courante pour identifier les valeurs aberrantes dans des données univariées. Elle utilise l'écart interquartile pour définir une plage de valeurs plausibles et identifie les observations qui sont en dehors de cette plage.\n",
    "- Le Z-score: La méthode du z-score est une autre approche courante pour identifier les valeurs aberrantes dans des données univariées. Elle utilise l'écart à la moyenne pour définir une plage de valeurs plausibles et identifie les observations qui sont en dehors de cette plage.\n",
    "\n",
    "Pour gérer ces valeurs, nous devons prendre en compte deux cas:\n",
    "\n",
    "|Type de valeur aberrante|Solutions pour les traiter|\n",
    "|------------------------|--------------------------|\n",
    "|Erreur|1. Correction de l'erreur si possible (ex. erreurs de saisie)|\n",
    "||2. Suppression de l'observation si la correction n'est pas possible et si l'erreur est clairement une anomalie|\n",
    "||3. Remplacer par une valeur manquante et imputer avec les techniques d'imputation|\n",
    "|Extrême (Plus notre cas)|1. Transformation des données (ex. logarithmique, racine carrée) pour réduire l'impact des valeurs extrêmes|\n",
    "||2. Winsorisation : remplacer les valeurs extrêmes par des percentiles spécifiques (ex. 1er et 99e percentiles)|\n",
    "||3. Utiliser des modèles d'apprentissage automatique robustes aux valeurs extrêmes (ex. modèles basés sur les rangs)|\n",
    "||4. Discrétiser la variable|\n",
    "||5. Faire le modèle avec et sans les valeurs extrêmes et analyser l'impact|"
   ]
  },
  {
   "cell_type": "code",
   "execution_count": null,
   "id": "9d5f8cd6",
   "metadata": {},
   "outputs": [],
   "source": [
    "# Fonction pour détecter et gérer les outliers en utilisant l'IQR et la winsorisation\n",
    "def detect_outliers_iqr(data):\n",
    "    data2=data[[\"properties.code_no2\", \"properties.code_o3\", \"properties.code_pm10\", \"properties.code_pm25\", \"properties.code_qual\", \"properties.code_so2\"]]\n",
    "    for col in data2.columns:\n",
    "        Q1 = data[col].quantile(0.25)\n",
    "        Q3 = data[col].quantile(0.75)\n",
    "        IQR = Q3 - Q1\n",
    "        \n",
    "        # Valeurs de winsorisation\n",
    "        lower_bound = Q1 - 1.5 * IQR\n",
    "        upper_bound = Q3 + 1.5 * IQR\n",
    "        \n",
    "        # Remplacement des outliers\n",
    "        data[col] = data[col].where(data[col] > lower_bound, lower_bound)\n",
    "        data[col] = data[col].where(data[col] < upper_bound, upper_bound)\n",
    "    return data\n"
   ]
  },
  {
   "cell_type": "code",
   "execution_count": null,
   "id": "b9de8483",
   "metadata": {},
   "outputs": [],
   "source": [
    "#Gestion des doublons\n",
    "def gerer_doublons(data, keep=\"first\"):\n",
    "    # Détection des doublons\n",
    "    doublons = data.duplicated(subset=colonnes_doublons, keep=keep)\n",
    "    \n",
    "    # Suppression des doublons\n",
    "    data = data[~doublons]\n",
    "    return data\n"
   ]
  }
 ],
 "metadata": {
  "kernelspec": {
   "display_name": "Python 3 (ipykernel)",
   "language": "python",
   "name": "python3"
  },
  "language_info": {
   "codemirror_mode": {
    "name": "ipython",
    "version": 3
   },
   "file_extension": ".py",
   "mimetype": "text/x-python",
   "name": "python",
   "nbconvert_exporter": "python",
   "pygments_lexer": "ipython3",
   "version": "3.9.13"
  },
  "varInspector": {
   "cols": {
    "lenName": 16,
    "lenType": 16,
    "lenVar": 40
   },
   "kernels_config": {
    "python": {
     "delete_cmd_postfix": "",
     "delete_cmd_prefix": "del ",
     "library": "var_list.py",
     "varRefreshCmd": "print(var_dic_list())"
    },
    "r": {
     "delete_cmd_postfix": ") ",
     "delete_cmd_prefix": "rm(",
     "library": "var_list.r",
     "varRefreshCmd": "cat(var_dic_list()) "
    }
   },
   "types_to_exclude": [
    "module",
    "function",
    "builtin_function_or_method",
    "instance",
    "_Feature"
   ],
   "window_display": false
  }
 },
 "nbformat": 4,
 "nbformat_minor": 5
}
