{
 "cells": [
  {
   "cell_type": "code",
   "execution_count": 1,
   "id": "aa81060b",
   "metadata": {},
   "outputs": [],
   "source": [
    "#Importation des librairies nécessaires au déroulement du projet\n",
    "import requests\n",
    "import json\n",
    "import pandas as pd\n",
    "import numpy as np\n",
    "import matplotlib.pyplot as plt\n",
    "import seaborn as sns\n",
    "from scipy.stats import mstats\n",
    "from sklearn.linear_model import LinearRegression\n",
    "from sklearn.linear_model import LogisticRegression"
   ]
  },
  {
   "cell_type": "code",
   "execution_count": null,
   "id": "b9de8483",
   "metadata": {},
   "outputs": [],
   "source": [
    "#Gestion des doublons\n",
    "def gerer_doublons(data, keep=\"first\"):\n",
    "    # Détection des doublons\n",
    "    doublons = data.duplicated(subset=colonnes_doublons, keep=keep)\n",
    "    \n",
    "    # Suppression des doublons\n",
    "    data = data[~doublons]\n",
    "    return data\n"
   ]
  },
  {
   "cell_type": "markdown",
   "id": "7622874e",
   "metadata": {},
   "source": [
    "### Gestion des valeurs manquantes (cas analyse univarié)\n",
    "- Si pour une variable donnée, on a peu de valeurs manquantes, on travail avec le jeu de données comme tel\n",
    "- Si par contre, on a beaucoup de valeurs manquantes dans une varible donnée, soit on l'oubliera si elle n'est pas importante pour notre analyse, soit on créera un sous-échantillon et on supprimera les individus pour lesquelles cette variable est manquante si elle est cruciale pour notre analyse.\n",
    "- On peut également passer par l'imputation qui est le fait de deviner une valeur manquante\n",
    "L'imputation par la moyenne, la médiane et le mode sont des méthodes simples pour remplacer les valeurs manquantes dans une variable.\n",
    "\n",
    "L'imputation par la moyenne consiste à remplacer les valeurs manquantes par la moyenne des valeurs non manquantes dans la variable. Cette méthode est utile pour les variables continues et symétriques.\n",
    "\n",
    "L'imputation par la médiane consiste à remplacer les valeurs manquantes par la médiane des valeurs non manquantes dans la variable. Cette méthode est utile pour les variables continues qui ont une distribution asymétrique ou pour les variables ordinales.\n",
    "\n",
    "L'imputation par le mode consiste à remplacer les valeurs manquantes par le mode, c'est-à-dire la valeur la plus fréquente, dans la variable. Cette méthode est utile pour les variables catégorielles ou nominales.\n",
    "\n"
   ]
  },
  {
   "cell_type": "code",
   "execution_count": 11,
   "id": "f53e19e0",
   "metadata": {
    "collapsed": true
   },
   "outputs": [
    {
     "name": "stdout",
     "output_type": "stream",
     "text": [
      "   properties.gml_id properties.partition_field  properties.code_no2  \\\n",
      "0          875183780                   282024w4                    1   \n",
      "1          971927298                   282024w8                    1   \n",
      "2          971929932                   282024w9                    1   \n",
      "3          971932679                   282024w9                    2   \n",
      "\n",
      "   properties.code_o3  properties.code_pm10  properties.code_pm25  \\\n",
      "0                   2                     1                     1   \n",
      "1                   2                     1                     1   \n",
      "2                   2                     1                     1   \n",
      "3                   2                     1                     1   \n",
      "\n",
      "   properties.code_qual  properties.code_so2 properties.code_zone  \\\n",
      "0                     2                    1                14118   \n",
      "1                     2                    1                14118   \n",
      "2                     2                    1                14118   \n",
      "3                     2                    1                14118   \n",
      "\n",
      "  properties.coul_qual properties.date_ech properties.lib_qual  \\\n",
      "0              #50CCAA          2024-01-28               Moyen   \n",
      "1              #50CCAA          2024-02-25               Moyen   \n",
      "2              #50CCAA          2024-02-26               Moyen   \n",
      "3              #50CCAA          2024-02-27               Moyen   \n",
      "\n",
      "  properties.lib_zone  \n",
      "0                Caen  \n",
      "1                Caen  \n",
      "2                Caen  \n",
      "3                Caen  \n"
     ]
    }
   ],
   "source": [
    "def manage_missing_values(data):\n",
    "    #Seuil pour la suppression des lignes\n",
    "    seuil_suppression = len(data.columns) // 2\n",
    "    data2 = data\n",
    "    \n",
    "    # Parcourir chaque colonne pour effectuer l'imputation et la suppression\n",
    "    for col in data2.columns:\n",
    "        # Vérifier si le nombre de valeurs manquantes dans la colonne dépasse le seuil de suppression\n",
    "        if data[col].isnull().sum() > seuil_suppression:\n",
    "            # Suppression des lignes avec des valeurs manquantes dans cette colonne\n",
    "            data = data.dropna(subset=[col])\n",
    "        elif data[col].isnull().sum() < seuil_suppression and data[col].isnull().sum() != 0:\n",
    "            # Imputation par le mode si les valeurs manquantes sont minimes\n",
    "            mode_value = data[col].mode()[0]\n",
    "            data[col].fillna(mode_value, inplace=True)\n",
    "        else:\n",
    "            continue\n",
    "\n",
    "    return data"
   ]
  },
  {
   "cell_type": "markdown",
   "id": "905e4e04",
   "metadata": {},
   "source": [
    "### Gestion des valeurs manquantes (cas analyse bivarié)\n",
    "Pour traiter les valeurs manquantes pour une variable quantitative dépendante d'une variable qualitative, on peut utiliser la méthode d'imputation par groupe. On remplace les valeurs manquantes par des statistiques calculées à partir des valeurs non manquantes du même groupe de la variable qualitative.\n",
    "\n",
    "Pour traiter les valeurs manquantes pour une variable quantitative dépendante d'une autre variable quantitative, on peut utiliser plusieurs approches. En voici deux exemples :\n",
    "- Imputation par la moyenne ou la médiane :\n",
    "Cette méthode consiste à remplacer les valeurs manquantes par la moyenne ou la médiane des valeurs non manquantes de la même variable quantitative.\n",
    "- Imputation basée sur la régression :\n",
    "Dans cette approche, on peut utiliser une régression linéaire pour prédire les valeurs manquantes de la variable quantitative dépendante en fonction des valeurs non manquantes de l'autre variable quantitative.\n",
    "\n",
    "Pour traiter les valeurs manquantes pour une variable qualitative dépendante d'une autre variable qualitative, on peut utiliser une méthode de régression logistique. La régression logistique est couramment utilisée pour la classification binaire, mais elle peut également être utilisée pour traiter les valeurs manquantes dans les variables qualitatives."
   ]
  },
  {
   "cell_type": "code",
   "execution_count": null,
   "id": "f77583a9",
   "metadata": {},
   "outputs": [],
   "source": [
    "def impute_missing_values(data, variable_qualitative, variable_quantitative):\n",
    "    # Calculer les statistiques par groupe\n",
    "    statistics_by_group = data.groupby(variable_qualitative)[variable_quantitative].agg(['mean', 'median', 'mode']).reset_index()\n",
    "    \n",
    "    # Fonction d'imputation par groupe\n",
    "    def impute_group(row):\n",
    "        if pd.isnull(row[variable_quantitative]):\n",
    "            mean_value = statistics_by_group.loc[statistics_by_group[variable_qualitative] == row[variable_qualitative], 'mean'].values[0]\n",
    "            median_value = statistics_by_group.loc[statistics_by_group[variable_qualitative] == row[variable_qualitative], 'median'].values[0]\n",
    "            mode_value = statistics_by_group.loc[statistics_by_group[variable_qualitative] == row[variable_qualitative], 'mode'].values[0]\n",
    "            return mode_value if pd.notnull(mode_value) else (median_value if pd.notnull(median_value) else mean_value)\n",
    "        else:\n",
    "            return row[variable_quantitative]\n",
    "    \n",
    "    # Appliquer la fonction d'imputation par groupe\n",
    "    data[variable_quantitative] = data.apply(impute_group, axis=1)\n",
    "    \n",
    "    return data"
   ]
  },
  {
   "cell_type": "code",
   "execution_count": null,
   "id": "6b81a097",
   "metadata": {},
   "outputs": [],
   "source": [
    "def impute_missing_values_regression(data, dependent_variable, independent_variable):\n",
    "    # Séparation des données en deux ensembles : avec valeurs manquantes et sans valeurs manquantes\n",
    "    data_with_missing = data[data[dependent_variable].isnull()]\n",
    "    data_without_missing = data[data[dependent_variable].notnull()]\n",
    "    \n",
    "    # Ajustement du modèle de régression linéaire\n",
    "    model = LinearRegression()\n",
    "    model.fit(data_without_missing[[independent_variable]], data_without_missing[dependent_variable])\n",
    "    \n",
    "    # Prédiction des valeurs manquantes\n",
    "    predicted_values = model.predict(data_with_missing[[independent_variable]])\n",
    "    data_with_missing[dependent_variable] = predicted_values\n",
    "    \n",
    "    # Concaténation des données\n",
    "    data_imputed = pd.concat([data_with_missing, data_without_missing])\n",
    "    \n",
    "    return data_imputed"
   ]
  },
  {
   "cell_type": "code",
   "execution_count": null,
   "id": "4ee0d973",
   "metadata": {},
   "outputs": [],
   "source": [
    "def impute_missing_values_logistic(data, dependent_variable, independent_variable):\n",
    "    # Séparation des données en deux ensembles : avec valeurs manquantes et sans valeurs manquantes\n",
    "    data_with_missing = data[data[dependent_variable].isnull()]\n",
    "    data_without_missing = data[data[dependent_variable].notnull()]\n",
    "    \n",
    "    # Encodage des variables catégorielles pour la régression logistique\n",
    "    X = pd.get_dummies(data_without_missing[independent_variable])\n",
    "    y = data_without_missing[dependent_variable]\n",
    "    \n",
    "    # Ajustement du modèle de régression logistique\n",
    "    model = LogisticRegression(solver='lbfgs', multi_class='auto')\n",
    "    model.fit(X, y)\n",
    "    \n",
    "    # Prédiction des valeurs manquantes\n",
    "    predicted_values = model.predict(pd.get_dummies(data_with_missing[independent_variable]))\n",
    "    data_with_missing[dependent_variable] = predicted_values\n",
    "    \n",
    "    # Concaténation des données\n",
    "    data_imputed = pd.concat([data_with_missing, data_without_missing])\n",
    "    \n",
    "    return data_imputed"
   ]
  },
  {
   "cell_type": "markdown",
   "id": "d694c574",
   "metadata": {},
   "source": [
    "### Gestion des valeurs aberrantes\n",
    "On dispose de plusieurs méthodes pour identifier les valeurs aberrantes:\n",
    "- L'IQR: La méthode de l'IQR est une approche courante pour identifier les valeurs aberrantes dans des données univariées. Elle utilise l'écart interquartile pour définir une plage de valeurs plausibles et identifie les observations qui sont en dehors de cette plage.\n",
    "- Le Z-score: La méthode du z-score est une autre approche courante pour identifier les valeurs aberrantes dans des données univariées. Elle utilise l'écart à la moyenne pour définir une plage de valeurs plausibles et identifie les observations qui sont en dehors de cette plage.\n",
    "\n",
    "Pour gérer ces valeurs, nous devons prendre en compte deux cas:\n",
    "\n",
    "|Type de valeur aberrante|Solutions pour les traiter|\n",
    "|------------------------|--------------------------|\n",
    "|Erreur|1. Correction de l'erreur si possible (ex. erreurs de saisie)|\n",
    "||2. Suppression de l'observation si la correction n'est pas possible et si l'erreur est clairement une anomalie|\n",
    "||3. Remplacer par une valeur manquante et imputer avec les techniques d'imputation|\n",
    "|Extrême (Plus notre cas)|1. Transformation des données (ex. logarithmique, racine carrée) pour réduire l'impact des valeurs extrêmes|\n",
    "||2. Winsorisation : remplacer les valeurs extrêmes par des percentiles spécifiques (ex. 1er et 99e percentiles)|\n",
    "||3. Utiliser des modèles d'apprentissage automatique robustes aux valeurs extrêmes (ex. modèles basés sur les rangs)|\n",
    "||4. Discrétiser la variable|\n",
    "||5. Faire le modèle avec et sans les valeurs extrêmes et analyser l'impact|"
   ]
  },
  {
   "cell_type": "code",
   "execution_count": null,
   "id": "9d5f8cd6",
   "metadata": {},
   "outputs": [],
   "source": [
    "# Fonction pour détecter et gérer les outliers en utilisant l'IQR et la winsorisation\n",
    "def detect_outliers_iqr(data):\n",
    "    for col in data.columns:\n",
    "        Q1 = data[col].quantile(0.25)\n",
    "        Q3 = data[col].quantile(0.75)\n",
    "        IQR = Q3 - Q1\n",
    "        \n",
    "        # Valeurs de winsorisation\n",
    "        lower_bound = Q1 - 1.5 * IQR\n",
    "        upper_bound = Q3 + 1.5 * IQR\n",
    "        \n",
    "        # Remplacement des outliers\n",
    "        data[col] = data[col].where(data[col] > lower_bound, lower_bound)\n",
    "        data[col] = data[col].where(data[col] < upper_bound, upper_bound)\n",
    "    return data\n"
   ]
  }
 ],
 "metadata": {
  "kernelspec": {
   "display_name": "Python 3 (ipykernel)",
   "language": "python",
   "name": "python3"
  },
  "language_info": {
   "codemirror_mode": {
    "name": "ipython",
    "version": 3
   },
   "file_extension": ".py",
   "mimetype": "text/x-python",
   "name": "python",
   "nbconvert_exporter": "python",
   "pygments_lexer": "ipython3",
   "version": "3.9.13"
  },
  "varInspector": {
   "cols": {
    "lenName": 16,
    "lenType": 16,
    "lenVar": 40
   },
   "kernels_config": {
    "python": {
     "delete_cmd_postfix": "",
     "delete_cmd_prefix": "del ",
     "library": "var_list.py",
     "varRefreshCmd": "print(var_dic_list())"
    },
    "r": {
     "delete_cmd_postfix": ") ",
     "delete_cmd_prefix": "rm(",
     "library": "var_list.r",
     "varRefreshCmd": "cat(var_dic_list()) "
    }
   },
   "types_to_exclude": [
    "module",
    "function",
    "builtin_function_or_method",
    "instance",
    "_Feature"
   ],
   "window_display": false
  }
 },
 "nbformat": 4,
 "nbformat_minor": 5
}
